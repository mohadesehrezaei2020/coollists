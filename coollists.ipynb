{
  "nbformat": 4,
  "nbformat_minor": 0,
  "metadata": {
    "colab": {
      "name": "coollists",
      "provenance": [],
      "authorship_tag": "ABX9TyMLkmc1fOlEQMCMXl5Ye+W0"
    },
    "kernelspec": {
      "name": "python3",
      "display_name": "Python 3"
    }
  },
  "cells": [
    {
      "cell_type": "code",
      "metadata": {
        "id": "Rn_hW0YA8fHu",
        "colab_type": "code",
        "colab": {
          "base_uri": "https://localhost:8080/",
          "height": 197
        },
        "outputId": "6a3dd339-b52c-49f1-c16d-3988a0d79eba"
      },
      "source": [
        "a= 1\n",
        "b= 2\n",
        "c= 3\n",
        "d= 4\n",
        "\n",
        "random.randint (a, d)"
      ],
      "execution_count": null,
      "outputs": [
        {
          "output_type": "error",
          "ename": "NameError",
          "evalue": "ignored",
          "traceback": [
            "\u001b[0;31m---------------------------------------------------------------------------\u001b[0m",
            "\u001b[0;31mNameError\u001b[0m                                 Traceback (most recent call last)",
            "\u001b[0;32m<ipython-input-8-57661dfe5000>\u001b[0m in \u001b[0;36m<module>\u001b[0;34m()\u001b[0m\n\u001b[1;32m      4\u001b[0m \u001b[0md\u001b[0m\u001b[0;34m=\u001b[0m \u001b[0;36m4\u001b[0m\u001b[0;34m\u001b[0m\u001b[0;34m\u001b[0m\u001b[0m\n\u001b[1;32m      5\u001b[0m \u001b[0;34m\u001b[0m\u001b[0m\n\u001b[0;32m----> 6\u001b[0;31m \u001b[0mrandom\u001b[0m \u001b[0;34m.\u001b[0m \u001b[0mrandint\u001b[0m \u001b[0;34m(\u001b[0m\u001b[0ma\u001b[0m\u001b[0;34m,\u001b[0m \u001b[0md\u001b[0m\u001b[0;34m)\u001b[0m\u001b[0;34m\u001b[0m\u001b[0;34m\u001b[0m\u001b[0m\n\u001b[0m",
            "\u001b[0;31mNameError\u001b[0m: name 'random' is not defined"
          ]
        }
      ]
    },
    {
      "cell_type": "code",
      "metadata": {
        "id": "4g7Sq7Kd-tcG",
        "colab_type": "code",
        "colab": {}
      },
      "source": [
        "a = 1 \n",
        "b = 2 \n",
        "c = 3 \n",
        "d = 4 \n",
        "e = 5 \n",
        "f = 6\n",
        "\n",
        "random"
      ],
      "execution_count": null,
      "outputs": []
    },
    {
      "cell_type": "code",
      "metadata": {
        "id": "38Cy-PlUA4lA",
        "colab_type": "code",
        "colab": {
          "base_uri": "https://localhost:8080/",
          "height": 153
        },
        "outputId": "c058d94b-5eae-41ae-a7e3-3268f1d76d7c"
      },
      "source": [
        "print (\"hi\")\n",
        "print (\"what's up\")\n",
        "num1= input (\"Enter a number \")\n",
        "num2= input (\"choose anther one \")\n",
        "print (\"well product of two number is \" , int (num1) * int (num2))\n",
        "print (\"in addition sum of that is \" , int (num1) + int (num2))\n",
        "if ((((int(num1))*(int(num2)))/3) > 12) :\n",
        "  print (\"you're so brave\")\n",
        "else :\n",
        "  print (\"you have to dance\")\n",
        "\n",
        "import random\n",
        "print (random.randint (1, 30))\n"
      ],
      "execution_count": null,
      "outputs": [
        {
          "output_type": "stream",
          "text": [
            "hi\n",
            "what's up\n",
            "Enter a number 18\n",
            "choose anther one 20\n",
            "well product of two number is  360\n",
            "in addition sum of that is  38\n",
            "you're so brave\n",
            "11\n"
          ],
          "name": "stdout"
        }
      ]
    },
    {
      "cell_type": "code",
      "metadata": {
        "id": "TpVb-Xw_PFPi",
        "colab_type": "code",
        "colab": {
          "base_uri": "https://localhost:8080/",
          "height": 34
        },
        "outputId": "daff9e29-ce71-4c37-9868-c6c2ec9b3308"
      },
      "source": [
        "myList = [1,0,15,12,20]\n",
        "print (mylist)\n",
        "myList.sort()"
      ],
      "execution_count": null,
      "outputs": [
        {
          "output_type": "stream",
          "text": [
            "[0, 1, 12, 15, 20]\n"
          ],
          "name": "stdout"
        }
      ]
    },
    {
      "cell_type": "code",
      "metadata": {
        "id": "RD2bdlvPmTEt",
        "colab_type": "code",
        "colab": {
          "base_uri": "https://localhost:8080/",
          "height": 34
        },
        "outputId": "e2e39db9-9791-4dab-e4d9-7ae3045a9cb4"
      },
      "source": [
        "import random\n",
        "nouns = [\"mohadeseh\" , \"saba\", \"ali\",\"mahdi\",\"masoumeh\" , \"labkhand\" , \"sogand\"]\n",
        "print (random.choice (nouns))"
      ],
      "execution_count": null,
      "outputs": [
        {
          "output_type": "stream",
          "text": [
            "ali\n"
          ],
          "name": "stdout"
        }
      ]
    },
    {
      "cell_type": "code",
      "metadata": {
        "id": "hbbHdeTuonUo",
        "colab_type": "code",
        "colab": {
          "base_uri": "https://localhost:8080/",
          "height": 34
        },
        "outputId": "1ef404d0-68e4-411d-a91c-f7ef317af968"
      },
      "source": [
        "print (nouns[5:6])"
      ],
      "execution_count": null,
      "outputs": [
        {
          "output_type": "stream",
          "text": [
            "['labkhand']\n"
          ],
          "name": "stdout"
        }
      ]
    },
    {
      "cell_type": "code",
      "metadata": {
        "id": "h3UkDhD7uJqo",
        "colab_type": "code",
        "colab": {
          "base_uri": "https://localhost:8080/",
          "height": 51
        },
        "outputId": "f1c0362c-0667-47c9-fe02-9f6637e589b9"
      },
      "source": [
        "nouns.sort()\n",
        "print (*nouns, '\\n')"
      ],
      "execution_count": null,
      "outputs": [
        {
          "output_type": "stream",
          "text": [
            "ali labkhand mahdi masoumeh mohadeseh saba sogand \n",
            "\n"
          ],
          "name": "stdout"
        }
      ]
    },
    {
      "cell_type": "code",
      "metadata": {
        "id": "DLmmzY5Kwd4l",
        "colab_type": "code",
        "colab": {
          "base_uri": "https://localhost:8080/",
          "height": 34
        },
        "outputId": "f12fc751-e6b9-4930-b99a-335af09ecb8f"
      },
      "source": [
        "import random\n",
        "nouns1 = [\"mohi\",\"niloo\", \"maryam\",\"nina\",\"karol\",\"john\"]\n",
        "adjectiv = [\"kind\",\"lier\",\"nice\",\"reliable\",\"cheerful\"]\n",
        "verb = [\"is\",\"look\",\"can be\", \"was born\"]\n",
        "print (\"\", random.choice(nouns1), \"\",random.choice(verb), \"\",random.choice(adjectiv))"
      ],
      "execution_count": 1,
      "outputs": [
        {
          "output_type": "stream",
          "text": [
            " mohi  look  cheerful\n"
          ],
          "name": "stdout"
        }
      ]
    },
    {
      "cell_type": "code",
      "metadata": {
        "id": "QpPZX8yDyxg8",
        "colab_type": "code",
        "colab": {
          "base_uri": "https://localhost:8080/",
          "height": 34
        },
        "outputId": "c3107a19-73bb-4365-a828-dfb7f23ec31d"
      },
      "source": [
        ""
      ],
      "execution_count": null,
      "outputs": [
        {
          "output_type": "stream",
          "text": [
            "['fati']  ['was born']  ['beach']\n"
          ],
          "name": "stdout"
        }
      ]
    }
  ]
}